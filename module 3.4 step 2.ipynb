{
 "cells": [
  {
   "cell_type": "markdown",
   "metadata": {},
   "source": [
    "Напишите программу, которая считывает из файла строку, соответствующую тексту, сжатому с помощью кодирования повторов, и производит обратную операцию, получая исходный текст.\n",
    "\n",
    "Запишите полученный текст в файл и прикрепите его, как ответ на это задание.\n",
    "\n",
    "В исходном тексте не встречаются цифры, так что код однозначно интерпретируем.\n",
    "\n",
    "Примечание. Это первое задание типа Dataset Quiz. В таких заданиях после нажатия \"Start Quiz\" у вас появляется ссылка \"download your dataset\". Используйте эту ссылку для того, чтобы загрузить файл со входными данными к себе на компьютер. Запустите вашу программу, используя этот файл в качестве входных данных. Выходной файл, который при этом у вас получится, надо отправить в качестве ответа на эту задачу.\n",
    "\n",
    "Sample Input:\n",
    "a3b4c2e10b1\n",
    "\n",
    "Sample Output:\n",
    "aaabbbbcceeeeeeeeeeb\n",
    "\n",
    "У вас есть неограниченное число попыток.\n",
    "Время одной попытки: 5 mins"
   ]
  },
  {
   "cell_type": "code",
   "execution_count": null,
   "metadata": {},
   "outputs": [],
   "source": [
    "with open('dataset_3363_2.txt', 'r') as df:\n",
    "    line = df.readline().strip()\n",
    "    print(line)"
   ]
  },
  {
   "cell_type": "code",
   "execution_count": null,
   "metadata": {},
   "outputs": [],
   "source": [
    "line_list = []\n",
    "digt = ''\n",
    "lettr = ''\n",
    "for i in range(len(line)):\n",
    "    if line[i].isalpha():\n",
    "        if i != 0:\n",
    "                line_list.append(lettr * int(digt))\n",
    "        digt = ''\n",
    "        lettr = line[i]\n",
    "        continue\n",
    "    elif line[i].isdigit():\n",
    "        if line[i-1].isdigit():\n",
    "            digt = digt + str(line[i])\n",
    "        else:\n",
    "            digt = str(line[i])\n",
    "            if i == len(line)-1:\n",
    "                line_list.append(lettr * int(digt))\n",
    "            \n",
    "        \n",
    "print(*line_list, sep='')"
   ]
  },
  {
   "cell_type": "code",
   "execution_count": null,
   "metadata": {},
   "outputs": [],
   "source": [
    "new_list = ''.join(line_list)\n",
    "print(new_list)"
   ]
  },
  {
   "cell_type": "code",
   "execution_count": null,
   "metadata": {},
   "outputs": [],
   "source": [
    "with open('new_dataset.txt', 'w') as new_f:\n",
    "    new_f.write(new_list)"
   ]
  },
  {
   "cell_type": "code",
   "execution_count": null,
   "metadata": {},
   "outputs": [],
   "source": [
    "with open('new_dataset.txt', 'r') as check:\n",
    "    line_check = check.readline().strip()\n",
    "    print(line_check)"
   ]
  },
  {
   "cell_type": "code",
   "execution_count": null,
   "metadata": {},
   "outputs": [],
   "source": [
    "genome = line_check\n",
    "counter = 1\n",
    "genome = genome + '!'\n",
    "for i in range((len(genome)-1)):\n",
    "    if genome[i] != genome[i+1]:\n",
    "        print(genome[i]+str(counter), end = '')\n",
    "        counter = 1\n",
    "    else:\n",
    "            counter += 1\n"
   ]
  },
  {
   "cell_type": "code",
   "execution_count": null,
   "metadata": {},
   "outputs": [],
   "source": [
    "line == 'J3Q4H8s2g19f6y2Z7r4v4a6y11g12J5G19F6x16t12e20y10x11t1V12w1E5n14d4D16N5F17n7'"
   ]
  },
  {
   "cell_type": "code",
   "execution_count": null,
   "metadata": {},
   "outputs": [],
   "source": []
  }
 ],
 "metadata": {
  "kernelspec": {
   "display_name": "Python 3",
   "language": "python",
   "name": "python3"
  },
  "language_info": {
   "codemirror_mode": {
    "name": "ipython",
    "version": 3
   },
   "file_extension": ".py",
   "mimetype": "text/x-python",
   "name": "python",
   "nbconvert_exporter": "python",
   "pygments_lexer": "ipython3",
   "version": "3.7.3"
  }
 },
 "nbformat": 4,
 "nbformat_minor": 2
}
