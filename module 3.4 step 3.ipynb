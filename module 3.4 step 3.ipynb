{
 "cells": [
  {
   "cell_type": "markdown",
   "metadata": {},
   "source": [
    "Недавно мы считали для каждого слова количество его вхождений в строку. Но на все слова может быть не так интересно смотреть, как, например, на наиболее часто используемые.\n",
    "\n",
    "Напишите программу, которая считывает текст из файла (в файле может быть больше одной строки) и выводит самое частое слово в этом тексте и через пробел то, сколько раз оно встретилось. Если таких слов несколько, вывести лексикографически первое (можно использовать оператор < для строк).\n",
    "\n",
    "В качестве ответа укажите вывод программы, а не саму программу.\n",
    "\n",
    "Слова, написанные в разных регистрах, считаются одинаковыми.\n",
    "\n",
    "Sample Input:\n",
    "abc a bCd bC AbC BC BCD bcd ABC\n",
    "\n",
    "Sample Output:\n",
    "abc 3\n",
    "\n",
    "У вас есть неограниченное число попыток.\n",
    "Время одной попытки: 5 mins"
   ]
  },
  {
   "cell_type": "code",
   "execution_count": null,
   "metadata": {},
   "outputs": [],
   "source": [
    "with open('dataset_3363_3.txt', 'r') as df:\n",
    "    list_to_search = df.read().split()\n",
    "    print(list_to_search)"
   ]
  },
  {
   "cell_type": "code",
   "execution_count": null,
   "metadata": {},
   "outputs": [],
   "source": [
    "s = set()\n",
    "for element in list_to_search:\n",
    "    s.add(element.lower())\n",
    "print(s)"
   ]
  },
  {
   "cell_type": "code",
   "execution_count": null,
   "metadata": {},
   "outputs": [],
   "source": [
    "for j in range(len(list_to_search)):\n",
    "    list_to_search[j] = list_to_search[j].lower()\n",
    "print(list_to_search)"
   ]
  },
  {
   "cell_type": "code",
   "execution_count": null,
   "metadata": {},
   "outputs": [],
   "source": [
    "num_of_ocur = 0\n",
    "for i in s:\n",
    "    if list_to_search.count(i) > num_of_ocur:\n",
    "        num_of_ocur = list_to_search.count(i)\n",
    "        item = i\n",
    "    elif list_to_search.count(i) == num_of_ocur:\n",
    "        if i > item:\n",
    "            item = i\n",
    "        else:\n",
    "            continue\n",
    "    else:\n",
    "        continue\n",
    "\n",
    "print(item, num_of_ocur)"
   ]
  },
  {
   "cell_type": "code",
   "execution_count": null,
   "metadata": {},
   "outputs": [],
   "source": [
    "with open('result_3.txt', 'w') as res3:\n",
    "    res3.write(item + ' ' + str(num_of_ocur))"
   ]
  },
  {
   "cell_type": "code",
   "execution_count": null,
   "metadata": {},
   "outputs": [],
   "source": []
  }
 ],
 "metadata": {
  "kernelspec": {
   "display_name": "Python 3",
   "language": "python",
   "name": "python3"
  },
  "language_info": {
   "codemirror_mode": {
    "name": "ipython",
    "version": 3
   },
   "file_extension": ".py",
   "mimetype": "text/x-python",
   "name": "python",
   "nbconvert_exporter": "python",
   "pygments_lexer": "ipython3",
   "version": "3.7.3"
  }
 },
 "nbformat": 4,
 "nbformat_minor": 2
}
