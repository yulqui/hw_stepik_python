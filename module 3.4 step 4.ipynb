{
 "cells": [
  {
   "cell_type": "markdown",
   "metadata": {},
   "source": [
    "Имеется файл с данными по успеваемости абитуриентов. Он представляет из себя набор строк, где в каждой строке записана следующая информация:\n",
    "\n",
    "Фамилия;Оценка_по_математике;Оценка_по_физике;Оценка_по_русскому_языку\n",
    "\n",
    "Поля внутри строки разделены точкой с запятой, оценки — целые числа.\n",
    "\n",
    "Напишите программу, которая считывает файл с подобной структурой и для каждого абитуриента выводит его среднюю оценку по этим трём предметам на отдельной строке, соответствующей этому абитуриенту.\n",
    "\n",
    "Также в конце файла, на отдельной строке, через пробел запишите средние баллы по математике, физике и русскому языку по всем абитуриентам.\n",
    "\n",
    "В качестве ответа на задание прикрепите полученный файл со средними оценками.\n",
    "\n",
    "Примечание. Для разбиения строки на части по символу ';' можно использовать метод split следующим образом:\n",
    "print('First;Second-1 Second-2;Third'.split(';'))\n",
    "['First', 'Second-1 Second-2', 'Third']\n",
    "\n",
    "Sample Input:\n",
    "Петров;85;92;78\n",
    "Сидоров;100;88;94\n",
    "Иванов;58;72;85\n",
    "\n",
    "Sample Output:\n",
    "85.0\n",
    "94.0\n",
    "71.666666667\n",
    "81.0 84.0 85.666666667\n",
    "У вас есть неограниченное число попыток.\n",
    "Время одной попытки: 5 mins\n"
   ]
  },
  {
   "cell_type": "code",
   "execution_count": null,
   "metadata": {},
   "outputs": [],
   "source": [
    "abitur_info = []\n",
    "with open('dataset_3363_4.txt', 'r', encoding='utf-8') as inf:\n",
    "    for line in inf:\n",
    "        line = line.strip().split(';')\n",
    "        abitur_info.append(line)\n",
    "        print(abitur_info)\n",
    "        "
   ]
  },
  {
   "cell_type": "code",
   "execution_count": null,
   "metadata": {},
   "outputs": [],
   "source": [
    "len(abitur_info)"
   ]
  },
  {
   "cell_type": "code",
   "execution_count": null,
   "metadata": {},
   "outputs": [],
   "source": [
    "[print(el) for el in abitur_info]"
   ]
  },
  {
   "cell_type": "code",
   "execution_count": null,
   "metadata": {},
   "outputs": [],
   "source": [
    "g = [round((float(math) + float(phys) + float(rus)) / 3, 9) for name, math, phys, rus in abitur_info]\n",
    "print(*g, sep='\\n')\n",
    "math_mean, phys_mean, rus_mean = round(sum([float(math) for name, math, phys, rus in abitur_info])/len(abitur_info), 9), round(sum([float(phys) for name, math, phys, rus in abitur_info])/len(abitur_info), 9), round(sum([float(rus) for name, math, phys, rus in abitur_info])/len(abitur_info), 9)\n",
    "print(math_mean, phys_mean, rus_mean)"
   ]
  },
  {
   "cell_type": "code",
   "execution_count": null,
   "metadata": {},
   "outputs": [],
   "source": [
    "with open('result_4.txt', 'w', encoding='utf-8') as outf:\n",
    "    for element in g:\n",
    "        outf.write(str(element) + '\\n')\n",
    "    outf.write(str(math_mean) + ' ' + str(phys_mean) + ' ' + str(rus_mean))"
   ]
  },
  {
   "cell_type": "code",
   "execution_count": null,
   "metadata": {},
   "outputs": [],
   "source": []
  }
 ],
 "metadata": {
  "kernelspec": {
   "display_name": "Python 3",
   "language": "python",
   "name": "python3"
  },
  "language_info": {
   "codemirror_mode": {
    "name": "ipython",
    "version": 3
   },
   "file_extension": ".py",
   "mimetype": "text/x-python",
   "name": "python",
   "nbconvert_exporter": "python",
   "pygments_lexer": "ipython3",
   "version": "3.7.3"
  }
 },
 "nbformat": 4,
 "nbformat_minor": 2
}
