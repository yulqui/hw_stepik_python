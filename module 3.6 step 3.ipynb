{
 "cells": [
  {
   "cell_type": "markdown",
   "metadata": {},
   "source": [
    "Имеется набор файлов, каждый из которых, кроме последнего, содержит имя следующего файла.\n",
    "Первое слово в тексте последнего файла: \"We\".\n",
    "\n",
    "Скачайте предложенный файл. В нём содержится ссылка на первый файл из этого набора.\n",
    "\n",
    "Все файлы располагаются в каталоге по адресу:\n",
    "https://stepic.org/media/attachments/course67/3.6.3/\n",
    "\n",
    "Загрузите содержимое ﻿последнего файла из набора, как ответ на это задание.\n",
    "\n",
    "У вас есть неограниченное число попыток.\n",
    "Время одной попытки: 5 mins"
   ]
  },
  {
   "cell_type": "code",
   "execution_count": null,
   "metadata": {},
   "outputs": [],
   "source": [
    "with open('dataset_3378_3.txt', 'r') as file:\n",
    "    path_1 = file.read().strip()\n",
    "    print(path_1)"
   ]
  },
  {
   "cell_type": "code",
   "execution_count": null,
   "metadata": {},
   "outputs": [],
   "source": [
    "import requests\n",
    "r = requests.get(path_1)"
   ]
  },
  {
   "cell_type": "code",
   "execution_count": null,
   "metadata": {},
   "outputs": [],
   "source": [
    "import os.path\n",
    "head_path = os.path.split(path_1)[0]\n",
    "print(head_path)"
   ]
  },
  {
   "cell_type": "code",
   "execution_count": null,
   "metadata": {},
   "outputs": [],
   "source": [
    "tail_path = r.text\n",
    "print(tail_path)\n",
    "print(r.text)"
   ]
  },
  {
   "cell_type": "code",
   "execution_count": null,
   "metadata": {},
   "outputs": [],
   "source": [
    "r = requests.get(head_path + '/' + tail_path)\n",
    "tail_path =r.text\n",
    "print(tail_path)"
   ]
  },
  {
   "cell_type": "code",
   "execution_count": null,
   "metadata": {},
   "outputs": [],
   "source": []
  },
  {
   "cell_type": "code",
   "execution_count": null,
   "metadata": {},
   "outputs": [],
   "source": [
    "while tail_path[0:1].lower() != 'we':\n",
    "    print(head_path + '/' + tail_path)\n",
    "    r = requests.get(head_path + '/' + tail_path)\n",
    "    tail_path =r.text\n",
    "    print(tail_path)"
   ]
  },
  {
   "cell_type": "code",
   "execution_count": null,
   "metadata": {},
   "outputs": [],
   "source": []
  },
  {
   "cell_type": "code",
   "execution_count": null,
   "metadata": {},
   "outputs": [],
   "source": []
  },
  {
   "cell_type": "code",
   "execution_count": null,
   "metadata": {},
   "outputs": [],
   "source": []
  }
 ],
 "metadata": {
  "kernelspec": {
   "display_name": "Python 3",
   "language": "python",
   "name": "python3"
  },
  "language_info": {
   "codemirror_mode": {
    "name": "ipython",
    "version": 3
   },
   "file_extension": ".py",
   "mimetype": "text/x-python",
   "name": "python",
   "nbconvert_exporter": "python",
   "pygments_lexer": "ipython3",
   "version": "3.7.3"
  }
 },
 "nbformat": 4,
 "nbformat_minor": 2
}
